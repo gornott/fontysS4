{
 "cells": [
  {
   "cell_type": "code",
   "execution_count": 1,
   "metadata": {
    "collapsed": true
   },
   "outputs": [
    {
     "name": "stderr",
     "output_type": "stream",
     "text": [
      "[ WARN:0@0.705] global loadsave.cpp:244 findDecoder imread_('image_0.jpg'): can't open/read file: check file path/integrity\n",
      "[ WARN:0@0.705] global loadsave.cpp:244 findDecoder imread_('image_1.jpg'): can't open/read file: check file path/integrity\n",
      "[ WARN:0@0.706] global loadsave.cpp:244 findDecoder imread_('image_2.jpg'): can't open/read file: check file path/integrity\n",
      "[ WARN:0@0.706] global loadsave.cpp:244 findDecoder imread_('image_3.jpg'): can't open/read file: check file path/integrity\n",
      "[ WARN:0@0.706] global loadsave.cpp:244 findDecoder imread_('image_4.jpg'): can't open/read file: check file path/integrity\n",
      "[ WARN:0@0.706] global loadsave.cpp:244 findDecoder imread_('image_5.jpg'): can't open/read file: check file path/integrity\n",
      "[ WARN:0@0.706] global loadsave.cpp:244 findDecoder imread_('image_6.jpg'): can't open/read file: check file path/integrity\n",
      "[ WARN:0@0.706] global loadsave.cpp:244 findDecoder imread_('image_7.jpg'): can't open/read file: check file path/integrity\n",
      "[ WARN:0@0.706] global loadsave.cpp:244 findDecoder imread_('image_8.jpg'): can't open/read file: check file path/integrity\n",
      "[ WARN:0@0.707] global loadsave.cpp:244 findDecoder imread_('image_9.jpg'): can't open/read file: check file path/integrity\n"
     ]
    },
    {
     "ename": "TypeError",
     "evalue": "unsupported operand type(s) for /: 'NoneType' and 'float'",
     "output_type": "error",
     "traceback": [
      "\u001B[0;31m---------------------------------------------------------------------------\u001B[0m",
      "\u001B[0;31mTypeError\u001B[0m                                 Traceback (most recent call last)",
      "Cell \u001B[0;32mIn[1], line 18\u001B[0m\n\u001B[1;32m     15\u001B[0m labels \u001B[38;5;241m=\u001B[39m np\u001B[38;5;241m.\u001B[39marray(labels)\n\u001B[1;32m     17\u001B[0m \u001B[38;5;66;03m# Pre-process the images\u001B[39;00m\n\u001B[0;32m---> 18\u001B[0m images \u001B[38;5;241m=\u001B[39m \u001B[43mimages\u001B[49m\u001B[43m \u001B[49m\u001B[38;5;241;43m/\u001B[39;49m\u001B[43m \u001B[49m\u001B[38;5;241;43m255.0\u001B[39;49m\n\u001B[1;32m     20\u001B[0m \u001B[38;5;66;03m# Split the data into training and testing sets\u001B[39;00m\n\u001B[1;32m     21\u001B[0m X_train, X_test, y_train, y_test \u001B[38;5;241m=\u001B[39m train_test_split(images, labels, test_size\u001B[38;5;241m=\u001B[39m\u001B[38;5;241m0.2\u001B[39m, random_state\u001B[38;5;241m=\u001B[39m\u001B[38;5;241m0\u001B[39m)\n",
      "\u001B[0;31mTypeError\u001B[0m: unsupported operand type(s) for /: 'NoneType' and 'float'"
     ]
    }
   ],
   "source": [
    "import numpy as np\n",
    "import cv2\n",
    "from sklearn import svm\n",
    "from sklearn.metrics import accuracy_score\n",
    "from sklearn.model_selection import train_test_split\n",
    "\n",
    "# Load the images and labels\n",
    "images = []\n",
    "labels = []\n",
    "for i in range(10):\n",
    "    image = cv2.imread(\"image_\" + str(i) + \".jpg\")\n",
    "    images.append(image)\n",
    "    labels.append(i % 2)\n",
    "images = np.array(images)\n",
    "labels = np.array(labels)\n",
    "\n",
    "# Pre-process the images\n",
    "images = images / 255.0\n",
    "\n",
    "# Split the data into training and testing sets\n",
    "X_train, X_test, y_train, y_test = train_test_split(images, labels, test_size=0.2, random_state=0)\n",
    "\n",
    "# Train a classifier\n",
    "clf = svm.SVC(kernel='linear', C=1, random_state=0)\n",
    "clf.fit(X_train, y_train)\n",
    "\n",
    "# Evaluate the classifier\n",
    "y_pred = clf.predict(X_test)\n",
    "print(\"Accuracy:\", accuracy_score(y_test, y_pred))"
   ]
  }
 ],
 "metadata": {
  "kernelspec": {
   "display_name": "Python 3",
   "language": "python",
   "name": "python3"
  },
  "language_info": {
   "codemirror_mode": {
    "name": "ipython",
    "version": 2
   },
   "file_extension": ".py",
   "mimetype": "text/x-python",
   "name": "python",
   "nbconvert_exporter": "python",
   "pygments_lexer": "ipython2",
   "version": "2.7.6"
  }
 },
 "nbformat": 4,
 "nbformat_minor": 0
}
